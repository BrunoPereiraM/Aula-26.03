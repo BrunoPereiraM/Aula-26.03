{
 "cells": [
  {
   "cell_type": "code",
   "execution_count": 30,
   "metadata": {},
   "outputs": [],
   "source": [
    "#Input\n",
    "valor1 = input('Digite um número inteiro: ')\n",
    "valor2 = input('Digite outro número inteiro: ')"
   ]
  },
  {
   "cell_type": "code",
   "execution_count": 32,
   "metadata": {},
   "outputs": [
    {
     "name": "stdout",
     "output_type": "stream",
     "text": [
      "False\n",
      "False\n",
      "True\n",
      "False\n",
      "True\n"
     ]
    }
   ],
   "source": [
    "print(valor1 == valor2)\n",
    "print(valor1 > valor2)\n",
    "print(valor1 < valor2)\n",
    "print(valor1 >= valor2)\n",
    "print(valor1 <= valor2)"
   ]
  },
  {
   "cell_type": "code",
   "execution_count": 33,
   "metadata": {},
   "outputs": [
    {
     "name": "stdout",
     "output_type": "stream",
     "text": [
      "False\n"
     ]
    }
   ],
   "source": [
    "#Conectivo de conjunção: E (and)\n",
    "numero = 10\n",
    "print(numero > 0 and numero < 10)"
   ]
  },
  {
   "cell_type": "code",
   "execution_count": 36,
   "metadata": {},
   "outputs": [
    {
     "name": "stdout",
     "output_type": "stream",
     "text": [
      "True\n"
     ]
    }
   ],
   "source": [
    "#Conectivo de disjunção: OU (or)\n",
    "numero = 10\n",
    "print(numero > 0 or numero < 10)"
   ]
  },
  {
   "cell_type": "code",
   "execution_count": 39,
   "metadata": {},
   "outputs": [
    {
     "name": "stdout",
     "output_type": "stream",
     "text": [
      "\n"
     ]
    }
   ],
   "source": [
    "if ('par'):\n",
    "    print('')\n",
    "else:\n",
    "    print('')"
   ]
  },
  {
   "cell_type": "code",
   "execution_count": 91,
   "metadata": {},
   "outputs": [
    {
     "name": "stdout",
     "output_type": "stream",
     "text": [
      "Seu número é:  15\n",
      "seu número é ímpar\n"
     ]
    }
   ],
   "source": [
    "#Atividade 1\n",
    "num = numero\n",
    "num= int(input('Digite um numero inteiro: '))\n",
    "print('Seu número é: ', num)\n",
    "if (num%2 == 0):\n",
    "    print('seu número é par')\n",
    "else:\n",
    "    print('seu número é ímpar')"
   ]
  },
  {
   "cell_type": "code",
   "execution_count": 102,
   "metadata": {},
   "outputs": [
    {
     "name": "stdout",
     "output_type": "stream",
     "text": [
      "Parabéns, você ganhou 5% desconto!\n",
      "Seu cupom é  aula3\n"
     ]
    }
   ],
   "source": [
    "#Atividade 2\n",
    "cupom = input('digite o cupom: ')\n",
    "if (cupom == 'aula1' or cupom == 'aula2'):\n",
    "    print('Parabéns, você ganhou 15% de desconto!')\n",
    "else:\n",
    "    print('Parabéns, você ganhou 5% desconto!')\n",
    "print('Seu cupom é ', cupom)"
   ]
  },
  {
   "cell_type": "code",
   "execution_count": 106,
   "metadata": {},
   "outputs": [
    {
     "name": "stdout",
     "output_type": "stream",
     "text": [
      "Login aprovado!\n"
     ]
    }
   ],
   "source": [
    "login = input('digite o seu login: ')\n",
    "if(login == '12345678900' or login == 'mk@gmail.com'):\n",
    "    print('Login aprovado!')\n",
    "elif(cupom == '123' or cupom == '456'):\n",
    "    print('Login aprovado!')\n",
    "else:\n",
    "    print('Login ou senha errado!')"
   ]
  }
 ],
 "metadata": {
  "kernelspec": {
   "display_name": "Python 3",
   "language": "python",
   "name": "python3"
  },
  "language_info": {
   "codemirror_mode": {
    "name": "ipython",
    "version": 3
   },
   "file_extension": ".py",
   "mimetype": "text/x-python",
   "name": "python",
   "nbconvert_exporter": "python",
   "pygments_lexer": "ipython3",
   "version": "3.10.8"
  }
 },
 "nbformat": 4,
 "nbformat_minor": 2
}
